{
 "cells": [
  {
   "cell_type": "markdown",
   "metadata": {},
   "source": [
    "# WeatherPy\n",
    "----\n",
    "\n",
    "#### Note\n",
    "* Instructions have been included for each segment. You do not have to follow them exactly, but they are included to help you think through the steps."
   ]
  },
  {
   "cell_type": "code",
   "execution_count": 1,
   "metadata": {
    "scrolled": true
   },
   "outputs": [],
   "source": [
    "# Dependencies and Setup\n",
    "import requests\n",
    "import json\n",
    "import pandas as pd\n",
    "import matplotlib.pyplot as plt\n",
    "import scipy.stats as st \n",
    "from scipy.stats import linregress\n",
    "import numpy as np\n",
    "import random\n",
    "import pprint\n",
    "\n",
    "# Import API keys \n",
    "import sys\n",
    "sys.path.append(\"..\")\n",
    "from api_keys import weather_api_key\n",
    "\n",
    "# Import citipy\n",
    "from citipy import citipy \n",
    "\n",
    "# Output CVS file \n",
    "data_file = \"output_data/cities.csv\"\n",
    "\n",
    "# Range of latitudes and Longitudes\n",
    "lat_range = (-90, 90)\n",
    "lng_range = (-180, 180)"
   ]
  },
  {
   "cell_type": "markdown",
   "metadata": {},
   "source": [
    "## Generate Cities List"
   ]
  },
  {
   "cell_type": "code",
   "execution_count": 2,
   "metadata": {},
   "outputs": [
    {
     "name": "stdout",
     "output_type": "stream",
     "text": [
      "622\n"
     ]
    }
   ],
   "source": [
    "#Create an empty list for recording cities (latitude/longitude)\n",
    "lat_lngs  = []\n",
    "cities = []\n",
    "\n",
    "# Create a loop to iterate through & append random cities \n",
    "lats = np.random.uniform(lat_range[0], lat_range[1], size=1500)\n",
    "lng = np.random.uniform(lng_range[0], lng_range[1], size=1500)\n",
    "lat_lngs = zip(lats, lng)\n",
    "\n",
    "for lat_lng in lat_lngs:\n",
    "    city = citipy.nearest_city(lat_lng[0], lat_lng[1]).city_name\n",
    "    \n",
    "    \n",
    "    if city not in cities:\n",
    "        cities.append(city)\n",
    "        \n",
    "    \n",
    "print(len(cities))"
   ]
  },
  {
   "cell_type": "code",
   "execution_count": 3,
   "metadata": {},
   "outputs": [
    {
     "name": "stdout",
     "output_type": "stream",
     "text": [
      "{\n",
      "    \"base\": \"stations\",\n",
      "    \"clouds\": {\n",
      "        \"all\": 17\n",
      "    },\n",
      "    \"cod\": 200,\n",
      "    \"coord\": {\n",
      "        \"lat\": 3.0707,\n",
      "        \"lon\": 172.7902\n",
      "    },\n",
      "    \"dt\": 1619405418,\n",
      "    \"id\": 2110227,\n",
      "    \"main\": {\n",
      "        \"feels_like\": 32.04,\n",
      "        \"grnd_level\": 1008,\n",
      "        \"humidity\": 73,\n",
      "        \"pressure\": 1009,\n",
      "        \"sea_level\": 1009,\n",
      "        \"temp\": 28.45,\n",
      "        \"temp_max\": 28.45,\n",
      "        \"temp_min\": 28.45\n",
      "    },\n",
      "    \"name\": \"Butaritari\",\n",
      "    \"sys\": {\n",
      "        \"country\": \"KI\",\n",
      "        \"sunrise\": 1619374811,\n",
      "        \"sunset\": 1619418774\n",
      "    },\n",
      "    \"timezone\": 43200,\n",
      "    \"visibility\": 10000,\n",
      "    \"weather\": [\n",
      "        {\n",
      "            \"description\": \"few clouds\",\n",
      "            \"icon\": \"02d\",\n",
      "            \"id\": 801,\n",
      "            \"main\": \"Clouds\"\n",
      "        }\n",
      "    ],\n",
      "    \"wind\": {\n",
      "        \"deg\": 60,\n",
      "        \"gust\": 5.42,\n",
      "        \"speed\": 5.17\n",
      "    }\n",
      "}\n"
     ]
    }
   ],
   "source": [
    "response = requests.get(f\"http://api.openweathermap.org/data/2.5/weather?appid={weather_api_key}&units=metric&q=butaritari\").json()\n",
    "response\n",
    "print(json.dumps(response, indent=4, sort_keys=True))"
   ]
  },
  {
   "cell_type": "markdown",
   "metadata": {},
   "source": [
    "### Perform API Calls\n",
    "* Perform a weather check on each city using a series of successive API calls.\n",
    "* Include a print log of each city as it'sbeing processed (with the city number and city name).\n"
   ]
  },
  {
   "cell_type": "code",
   "execution_count": 4,
   "metadata": {
    "scrolled": true
   },
   "outputs": [
    {
     "name": "stdout",
     "output_type": "stream",
     "text": [
      "Beginning Data Retrieval\n",
      "---------------------------------------\n",
      "Processing Records 1 of Set 1 | rikitea\n",
      "City not found. Skipping...\n",
      "Processing Records 2 of Set 1 | tasiilaq\n",
      "Processing Records 3 of Set 1 | vaini\n",
      "Processing Records 4 of Set 1 | mar del plata\n",
      "Processing Records 5 of Set 1 | tura\n",
      "Processing Records 6 of Set 1 | puerto ayora\n",
      "Processing Records 7 of Set 1 | chokurdakh\n",
      "Processing Records 8 of Set 1 | donskoye\n",
      "Processing Records 9 of Set 1 | kilindoni\n",
      "Processing Records 10 of Set 1 | ust-nera\n",
      "Processing Records 11 of Set 1 | punta arenas\n",
      "Processing Records 12 of Set 1 | jamestown\n",
      "Processing Records 13 of Set 1 | olafsvik\n",
      "Processing Records 14 of Set 1 | mount isa\n",
      "Processing Records 15 of Set 1 | ushuaia\n",
      "Processing Records 16 of Set 1 | hilo\n",
      "Processing Records 17 of Set 1 | northwich\n",
      "Processing Records 18 of Set 1 | kiama\n",
      "Processing Records 19 of Set 1 | kruisfontein\n",
      "Processing Records 20 of Set 1 | ilulissat\n",
      "Processing Records 21 of Set 1 | dikson\n",
      "Processing Records 22 of Set 1 | maarianhamina\n",
      "Processing Records 23 of Set 1 | kodiak\n",
      "Processing Records 24 of Set 1 | albany\n",
      "Processing Records 25 of Set 1 | bredasdorp\n",
      "Processing Records 26 of Set 1 | arinos\n",
      "Processing Records 27 of Set 1 | busselton\n",
      "Processing Records 28 of Set 1 | khatanga\n",
      "Processing Records 29 of Set 1 | kaitangata\n",
      "Processing Records 30 of Set 1 | saint-philippe\n",
      "Processing Records 31 of Set 1 | nikolskoye\n",
      "Processing Records 32 of Set 1 | dubai\n",
      "Processing Records 33 of Set 1 | atuona\n",
      "Processing Records 34 of Set 1 | vila velha\n",
      "Processing Records 35 of Set 1 | wajid\n",
      "City not found. Skipping...\n",
      "Processing Records 36 of Set 1 | port elizabeth\n",
      "Processing Records 37 of Set 1 | tiksi\n",
      "Processing Records 38 of Set 1 | provideniya\n",
      "Processing Records 39 of Set 1 | nome\n",
      "Processing Records 40 of Set 1 | saldanha\n",
      "Processing Records 41 of Set 1 | sitka\n",
      "Processing Records 42 of Set 1 | wahpeton\n",
      "Processing Records 43 of Set 1 | payson\n",
      "Processing Records 44 of Set 1 | genhe\n",
      "Processing Records 45 of Set 1 | arraial do cabo\n",
      "Processing Records 46 of Set 1 | qaanaaq\n",
      "Processing Records 47 of Set 1 | porbandar\n",
      "Processing Records 48 of Set 1 | san andres\n",
      "Processing Records 49 of Set 1 | karpogory\n",
      "Processing Records 50 of Set 1 | westport\n",
      "City not found. Skipping...\n",
      "Processing Records 0 of Set 2 | hithadhoo\n",
      "Processing Records 1 of Set 2 | tuktoyaktuk\n",
      "Processing Records 2 of Set 2 | uruzgan\n",
      "Processing Records 3 of Set 2 | paracuru\n",
      "Processing Records 4 of Set 2 | troitskoye\n",
      "Processing Records 5 of Set 2 | aden\n",
      "Processing Records 6 of Set 2 | micheweni\n",
      "City not found. Skipping...\n",
      "Processing Records 7 of Set 2 | cockburn town\n",
      "Processing Records 8 of Set 2 | hasaki\n",
      "Processing Records 9 of Set 2 | bolivar\n",
      "City not found. Skipping...\n",
      "Processing Records 10 of Set 2 | kpandu\n",
      "Processing Records 11 of Set 2 | thompson\n",
      "Processing Records 12 of Set 2 | homer\n",
      "Processing Records 13 of Set 2 | na wa\n",
      "Processing Records 14 of Set 2 | port alfred\n",
      "Processing Records 15 of Set 2 | kidal\n",
      "Processing Records 16 of Set 2 | vao\n",
      "Processing Records 17 of Set 2 | victoria\n",
      "Processing Records 18 of Set 2 | tahta\n",
      "Processing Records 19 of Set 2 | melfort\n",
      "City not found. Skipping...\n",
      "Processing Records 20 of Set 2 | yellowknife\n",
      "Processing Records 21 of Set 2 | codrington\n",
      "Processing Records 22 of Set 2 | bethel\n",
      "Processing Records 23 of Set 2 | longyearbyen\n",
      "Processing Records 24 of Set 2 | hobart\n",
      "Processing Records 25 of Set 2 | jalu\n",
      "Processing Records 26 of Set 2 | hermanus\n",
      "City not found. Skipping...\n",
      "Processing Records 27 of Set 2 | caucaia\n",
      "Processing Records 28 of Set 2 | bluff\n",
      "Processing Records 29 of Set 2 | caravelas\n",
      "Processing Records 30 of Set 2 | talcahuano\n",
      "Processing Records 31 of Set 2 | faanui\n",
      "Processing Records 32 of Set 2 | ha tinh\n",
      "Processing Records 33 of Set 2 | alofi\n",
      "Processing Records 34 of Set 2 | castro\n",
      "Processing Records 35 of Set 2 | gazanjyk\n",
      "Processing Records 36 of Set 2 | piojo\n",
      "Processing Records 37 of Set 2 | ngunguru\n",
      "Processing Records 38 of Set 2 | avarua\n",
      "Processing Records 39 of Set 2 | kuragino\n",
      "Processing Records 40 of Set 2 | saskylakh\n",
      "Processing Records 41 of Set 2 | nampa\n",
      "Processing Records 42 of Set 2 | luganville\n",
      "Processing Records 43 of Set 2 | vardo\n",
      "Processing Records 44 of Set 2 | lompoc\n",
      "Processing Records 45 of Set 2 | carauari\n",
      "Processing Records 46 of Set 2 | mataura\n",
      "Processing Records 47 of Set 2 | itoman\n",
      "Processing Records 48 of Set 2 | aklavik\n",
      "Processing Records 49 of Set 2 | myitkyina\n",
      "Processing Records 50 of Set 2 | sulangan\n",
      "Processing Records 0 of Set 3 | chuy\n",
      "Processing Records 1 of Set 3 | ardakan\n",
      "Processing Records 2 of Set 3 | barrow\n",
      "Processing Records 3 of Set 3 | guarapuava\n",
      "Processing Records 4 of Set 3 | ponta do sol\n",
      "Processing Records 5 of Set 3 | torbay\n",
      "Processing Records 6 of Set 3 | laguna de perlas\n",
      "Processing Records 7 of Set 3 | yerbogachen\n",
      "Processing Records 8 of Set 3 | beloha\n",
      "Processing Records 9 of Set 3 | norsup\n",
      "Processing Records 10 of Set 3 | airai\n",
      "Processing Records 11 of Set 3 | lokosovo\n",
      "Processing Records 12 of Set 3 | lahat\n",
      "Processing Records 13 of Set 3 | cape town\n",
      "Processing Records 14 of Set 3 | east london\n",
      "Processing Records 15 of Set 3 | pevek\n",
      "Processing Records 16 of Set 3 | emerald\n",
      "Processing Records 17 of Set 3 | lodwar\n",
      "City not found. Skipping...\n",
      "Processing Records 18 of Set 3 | butaritari\n",
      "Processing Records 19 of Set 3 | la palma\n",
      "Processing Records 20 of Set 3 | ahuimanu\n",
      "Processing Records 21 of Set 3 | chimoio\n",
      "Processing Records 22 of Set 3 | bar harbor\n",
      "Processing Records 23 of Set 3 | katsuura\n",
      "Processing Records 24 of Set 3 | mount gambier\n",
      "Processing Records 25 of Set 3 | waingapu\n",
      "Processing Records 26 of Set 3 | new norfolk\n",
      "Processing Records 27 of Set 3 | oyama\n",
      "Processing Records 28 of Set 3 | port lincoln\n",
      "Processing Records 29 of Set 3 | upernavik\n",
      "Processing Records 30 of Set 3 | bambous virieux\n",
      "Processing Records 31 of Set 3 | shingu\n",
      "Processing Records 32 of Set 3 | urumqi\n",
      "Processing Records 33 of Set 3 | lorengau\n",
      "Processing Records 34 of Set 3 | usinsk\n",
      "Processing Records 35 of Set 3 | ekpoma\n",
      "Processing Records 36 of Set 3 | viedma\n",
      "Processing Records 37 of Set 3 | sibolga\n",
      "Processing Records 38 of Set 3 | guane\n",
      "Processing Records 39 of Set 3 | tigil\n",
      "Processing Records 40 of Set 3 | nouakchott\n",
      "Processing Records 41 of Set 3 | meybod\n",
      "Processing Records 42 of Set 3 | alice springs\n",
      "Processing Records 43 of Set 3 | port macquarie\n",
      "Processing Records 44 of Set 3 | namatanai\n",
      "Processing Records 45 of Set 3 | lavrentiya\n",
      "Processing Records 46 of Set 3 | diamantino\n",
      "Processing Records 47 of Set 3 | merauke\n",
      "Processing Records 48 of Set 3 | sao miguel do araguaia\n",
      "Processing Records 49 of Set 3 | laredo\n",
      "Processing Records 50 of Set 3 | jardim\n",
      "Processing Records 0 of Set 4 | kapaa\n",
      "Processing Records 1 of Set 4 | toora-khem\n",
      "City not found. Skipping...\n",
      "Processing Records 2 of Set 4 | zhob\n",
      "Processing Records 3 of Set 4 | tamiahua\n",
      "Processing Records 4 of Set 4 | marang\n",
      "Processing Records 5 of Set 4 | pogranichnyy\n",
      "Processing Records 6 of Set 4 | chernyshevskiy\n",
      "Processing Records 7 of Set 4 | roald\n",
      "Processing Records 8 of Set 4 | deputatskiy\n",
      "Processing Records 9 of Set 4 | fairbanks\n",
      "Processing Records 10 of Set 4 | nanakuli\n",
      "Processing Records 11 of Set 4 | lebu\n",
      "Processing Records 12 of Set 4 | beatrice\n",
      "Processing Records 13 of Set 4 | kijang\n",
      "City not found. Skipping...\n",
      "Processing Records 14 of Set 4 | touros\n",
      "Processing Records 15 of Set 4 | carnarvon\n",
      "Processing Records 16 of Set 4 | muros\n",
      "Processing Records 17 of Set 4 | ballina\n",
      "City not found. Skipping...\n",
      "Processing Records 18 of Set 4 | lagoa\n",
      "Processing Records 19 of Set 4 | kununurra\n",
      "Processing Records 20 of Set 4 | norman wells\n",
      "Processing Records 21 of Set 4 | sola\n",
      "Processing Records 22 of Set 4 | opuwo\n",
      "Processing Records 23 of Set 4 | cherskiy\n",
      "Processing Records 24 of Set 4 | saint-joseph\n",
      "Processing Records 25 of Set 4 | eydhafushi\n",
      "Processing Records 26 of Set 4 | jatai\n",
      "Processing Records 27 of Set 4 | zaysan\n",
      "City not found. Skipping...\n",
      "Processing Records 28 of Set 4 | okhotsk\n",
      "Processing Records 29 of Set 4 | sal rei\n",
      "Processing Records 30 of Set 4 | honiara\n",
      "Processing Records 31 of Set 4 | san policarpo\n",
      "Processing Records 32 of Set 4 | dubbo\n",
      "Processing Records 33 of Set 4 | perth\n",
      "Processing Records 34 of Set 4 | isangel\n"
     ]
    },
    {
     "name": "stdout",
     "output_type": "stream",
     "text": [
      "Processing Records 35 of Set 4 | lhokseumawe\n",
      "City not found. Skipping...\n",
      "Processing Records 36 of Set 4 | broome\n",
      "Processing Records 37 of Set 4 | iqaluit\n",
      "Processing Records 38 of Set 4 | bonavista\n",
      "Processing Records 39 of Set 4 | grindavik\n",
      "Processing Records 40 of Set 4 | lasa\n",
      "Processing Records 41 of Set 4 | heihe\n",
      "Processing Records 42 of Set 4 | tilichiki\n",
      "City not found. Skipping...\n",
      "Processing Records 43 of Set 4 | zhigansk\n",
      "Processing Records 44 of Set 4 | zabaykalsk\n",
      "Processing Records 45 of Set 4 | narsaq\n",
      "Processing Records 46 of Set 4 | luderitz\n",
      "Processing Records 47 of Set 4 | luba\n",
      "Processing Records 48 of Set 4 | brae\n",
      "Processing Records 49 of Set 4 | magnitogorsk\n",
      "Processing Records 50 of Set 4 | coquimbo\n",
      "Processing Records 0 of Set 5 | ginir\n",
      "Processing Records 1 of Set 5 | pishva\n",
      "Processing Records 2 of Set 5 | pacifica\n",
      "Processing Records 3 of Set 5 | umm lajj\n",
      "Processing Records 4 of Set 5 | taoudenni\n",
      "Processing Records 5 of Set 5 | phan thiet\n",
      "Processing Records 6 of Set 5 | chifeng\n",
      "Processing Records 7 of Set 5 | abha\n",
      "Processing Records 8 of Set 5 | champerico\n",
      "Processing Records 9 of Set 5 | hambantota\n",
      "Processing Records 10 of Set 5 | bulgan\n",
      "Processing Records 11 of Set 5 | ribeira grande\n",
      "Processing Records 12 of Set 5 | skjervoy\n",
      "Processing Records 13 of Set 5 | pisco\n",
      "Processing Records 14 of Set 5 | manacapuru\n",
      "Processing Records 15 of Set 5 | kavieng\n",
      "City not found. Skipping...\n",
      "Processing Records 16 of Set 5 | lata\n",
      "Processing Records 17 of Set 5 | kangaatsiaq\n",
      "Processing Records 18 of Set 5 | carberry\n",
      "Processing Records 19 of Set 5 | wuchang\n",
      "Processing Records 20 of Set 5 | rudsar\n",
      "Processing Records 21 of Set 5 | tessalit\n",
      "Processing Records 22 of Set 5 | kahului\n",
      "City not found. Skipping...\n",
      "Processing Records 23 of Set 5 | jaruco\n",
      "City not found. Skipping...\n",
      "Processing Records 24 of Set 5 | iquique\n",
      "Processing Records 25 of Set 5 | presidencia roque saenz pena\n",
      "Processing Records 26 of Set 5 | isiro\n",
      "Processing Records 27 of Set 5 | merritt island\n",
      "Processing Records 28 of Set 5 | chervishevo\n",
      "Processing Records 29 of Set 5 | turukhansk\n",
      "Processing Records 30 of Set 5 | krasnoselkup\n",
      "Processing Records 31 of Set 5 | volodarka\n",
      "Processing Records 32 of Set 5 | maceio\n",
      "Processing Records 33 of Set 5 | santa ines\n",
      "Processing Records 34 of Set 5 | tromso\n",
      "Processing Records 35 of Set 5 | port hawkesbury\n",
      "Processing Records 36 of Set 5 | bandarbeyla\n",
      "Processing Records 37 of Set 5 | benguela\n",
      "Processing Records 38 of Set 5 | malakal\n",
      "Processing Records 39 of Set 5 | mayo\n",
      "Processing Records 40 of Set 5 | cabo san lucas\n",
      "Processing Records 41 of Set 5 | pyapon\n",
      "Processing Records 42 of Set 5 | erzin\n",
      "Processing Records 43 of Set 5 | veinticinco de mayo\n",
      "Processing Records 44 of Set 5 | abadan\n",
      "Processing Records 45 of Set 5 | soyo\n",
      "Processing Records 46 of Set 5 | georgetown\n",
      "City not found. Skipping...\n",
      "City not found. Skipping...\n",
      "Processing Records 47 of Set 5 | wajima\n",
      "Processing Records 48 of Set 5 | srednekolymsk\n",
      "Processing Records 49 of Set 5 | saint george\n",
      "Processing Records 50 of Set 5 | bajil\n",
      "City not found. Skipping...\n",
      "Processing Records 0 of Set 6 | riyadh\n",
      "City not found. Skipping...\n",
      "Processing Records 1 of Set 6 | hamilton\n",
      "City not found. Skipping...\n",
      "Processing Records 2 of Set 6 | laguna\n",
      "City not found. Skipping...\n",
      "Processing Records 3 of Set 6 | mbala\n",
      "Processing Records 4 of Set 6 | selkirk\n",
      "City not found. Skipping...\n",
      "Processing Records 5 of Set 6 | sao filipe\n",
      "Processing Records 6 of Set 6 | niquelandia\n",
      "Processing Records 7 of Set 6 | camacha\n",
      "Processing Records 8 of Set 6 | abhar\n",
      "Processing Records 9 of Set 6 | rio grande\n",
      "Processing Records 10 of Set 6 | talnakh\n",
      "City not found. Skipping...\n",
      "Processing Records 11 of Set 6 | gwadar\n",
      "City not found. Skipping...\n",
      "Processing Records 12 of Set 6 | cidreira\n",
      "Processing Records 13 of Set 6 | yerofey pavlovich\n",
      "Processing Records 14 of Set 6 | ouallam\n",
      "Processing Records 15 of Set 6 | coihaique\n",
      "Processing Records 16 of Set 6 | port hardy\n",
      "Processing Records 17 of Set 6 | esperance\n",
      "Processing Records 18 of Set 6 | miri\n",
      "Processing Records 19 of Set 6 | kefalos\n",
      "Processing Records 20 of Set 6 | ponta delgada\n",
      "Processing Records 21 of Set 6 | voznesenye\n",
      "Processing Records 22 of Set 6 | katobu\n",
      "City not found. Skipping...\n",
      "Processing Records 23 of Set 6 | vostok\n",
      "Processing Records 24 of Set 6 | tymovskoye\n",
      "Processing Records 25 of Set 6 | mahebourg\n",
      "Processing Records 26 of Set 6 | san cristobal\n",
      "Processing Records 27 of Set 6 | gualaco\n",
      "Processing Records 28 of Set 6 | puerto penasco\n",
      "Processing Records 29 of Set 6 | necochea\n",
      "Processing Records 30 of Set 6 | ust-tarka\n",
      "Processing Records 31 of Set 6 | leningradskiy\n",
      "Processing Records 32 of Set 6 | carlagan\n",
      "Processing Records 33 of Set 6 | jega\n",
      "Processing Records 34 of Set 6 | los llanos de aridane\n",
      "Processing Records 35 of Set 6 | le port\n",
      "Processing Records 36 of Set 6 | zhuzhou\n",
      "Processing Records 37 of Set 6 | auki\n",
      "Processing Records 38 of Set 6 | acapulco\n",
      "Processing Records 39 of Set 6 | boa vista\n",
      "Processing Records 40 of Set 6 | byron bay\n",
      "Processing Records 41 of Set 6 | haines junction\n",
      "Processing Records 42 of Set 6 | rudnya\n",
      "Processing Records 43 of Set 6 | okakarara\n",
      "Processing Records 44 of Set 6 | aneho\n",
      "Processing Records 45 of Set 6 | nanortalik\n",
      "Processing Records 46 of Set 6 | lensk\n",
      "Processing Records 47 of Set 6 | batagay-alyta\n",
      "Processing Records 48 of Set 6 | sao jose da coroa grande\n",
      "Processing Records 49 of Set 6 | fortuna\n",
      "Processing Records 50 of Set 6 | te anau\n",
      "Processing Records 0 of Set 7 | kamaishi\n",
      "Processing Records 1 of Set 7 | praia\n",
      "Processing Records 2 of Set 7 | coahuayana\n",
      "Processing Records 3 of Set 7 | kyzyl\n",
      "Processing Records 4 of Set 7 | buraydah\n",
      "Processing Records 5 of Set 7 | vestmanna\n",
      "Processing Records 6 of Set 7 | geraldton\n",
      "Processing Records 7 of Set 7 | gat\n",
      "Processing Records 8 of Set 7 | souillac\n",
      "Processing Records 9 of Set 7 | ulaangom\n",
      "Processing Records 10 of Set 7 | amapa\n",
      "Processing Records 11 of Set 7 | gaoual\n",
      "Processing Records 12 of Set 7 | longonjo\n",
      "Processing Records 13 of Set 7 | hazaribag\n",
      "Processing Records 14 of Set 7 | bagrami\n",
      "Processing Records 15 of Set 7 | bafata\n",
      "Processing Records 16 of Set 7 | xuzhou\n",
      "Processing Records 17 of Set 7 | flinders\n",
      "Processing Records 18 of Set 7 | ialibu\n",
      "Processing Records 19 of Set 7 | hay river\n",
      "Processing Records 20 of Set 7 | mercedes\n",
      "Processing Records 21 of Set 7 | wad madani\n",
      "Processing Records 22 of Set 7 | lexington park\n",
      "Processing Records 23 of Set 7 | east liverpool\n",
      "Processing Records 24 of Set 7 | grand gaube\n",
      "Processing Records 25 of Set 7 | bambanglipuro\n",
      "Processing Records 26 of Set 7 | nobres\n",
      "Processing Records 27 of Set 7 | russell\n",
      "City not found. Skipping...\n",
      "Processing Records 28 of Set 7 | aswan\n",
      "Processing Records 29 of Set 7 | harper\n",
      "Processing Records 30 of Set 7 | portland\n",
      "Processing Records 31 of Set 7 | shelburne\n",
      "Processing Records 32 of Set 7 | ca mau\n",
      "Processing Records 33 of Set 7 | brazzaville\n",
      "Processing Records 34 of Set 7 | nyurba\n",
      "Processing Records 35 of Set 7 | yar-sale\n",
      "Processing Records 36 of Set 7 | ahipara\n",
      "Processing Records 37 of Set 7 | almeirim\n",
      "City not found. Skipping...\n",
      "City not found. Skipping...\n",
      "Processing Records 38 of Set 7 | husavik\n",
      "Processing Records 39 of Set 7 | noyabrsk\n",
      "Processing Records 40 of Set 7 | olinda\n",
      "Processing Records 41 of Set 7 | prince rupert\n",
      "Processing Records 42 of Set 7 | bull savanna\n",
      "Processing Records 43 of Set 7 | umm bab\n",
      "Processing Records 44 of Set 7 | bokoro\n",
      "Processing Records 45 of Set 7 | tallahassee\n",
      "Processing Records 46 of Set 7 | ligayan\n",
      "Processing Records 47 of Set 7 | quatre cocos\n",
      "Processing Records 48 of Set 7 | puerto suarez\n",
      "Processing Records 49 of Set 7 | linfen\n",
      "Processing Records 50 of Set 7 | klaksvik\n",
      "Processing Records 0 of Set 8 | smidovich\n",
      "Processing Records 1 of Set 8 | metro\n",
      "Processing Records 2 of Set 8 | bang saphan\n",
      "City not found. Skipping...\n",
      "Processing Records 3 of Set 8 | sinnamary\n",
      "City not found. Skipping...\n",
      "Processing Records 4 of Set 8 | monaghan\n",
      "Processing Records 5 of Set 8 | valparaiso\n",
      "Processing Records 6 of Set 8 | fukue\n",
      "Processing Records 7 of Set 8 | bollnas\n",
      "Processing Records 8 of Set 8 | puerto carreno\n",
      "Processing Records 9 of Set 8 | sabang\n",
      "Processing Records 10 of Set 8 | great falls\n",
      "Processing Records 11 of Set 8 | san quintin\n",
      "Processing Records 12 of Set 8 | mahibadhoo\n"
     ]
    },
    {
     "name": "stdout",
     "output_type": "stream",
     "text": [
      "Processing Records 13 of Set 8 | algiers\n",
      "Processing Records 14 of Set 8 | chandbali\n",
      "Processing Records 15 of Set 8 | yulara\n",
      "Processing Records 16 of Set 8 | batamshinskiy\n",
      "Processing Records 17 of Set 8 | hailar\n",
      "Processing Records 18 of Set 8 | ormara\n",
      "Processing Records 19 of Set 8 | inhambane\n",
      "Processing Records 20 of Set 8 | vilhena\n",
      "Processing Records 21 of Set 8 | eureka\n",
      "Processing Records 22 of Set 8 | yumen\n",
      "Processing Records 23 of Set 8 | chapleau\n",
      "City not found. Skipping...\n",
      "Processing Records 24 of Set 8 | makakilo city\n",
      "Processing Records 25 of Set 8 | zemio\n",
      "Processing Records 26 of Set 8 | belmonte\n",
      "Processing Records 27 of Set 8 | provost\n",
      "City not found. Skipping...\n",
      "Processing Records 28 of Set 8 | xocali\n",
      "Processing Records 29 of Set 8 | bay roberts\n",
      "Processing Records 30 of Set 8 | tazovskiy\n",
      "Processing Records 31 of Set 8 | labuhan\n",
      "Processing Records 32 of Set 8 | arlit\n",
      "Processing Records 33 of Set 8 | ketchikan\n",
      "Processing Records 34 of Set 8 | sigli\n",
      "Processing Records 35 of Set 8 | bathsheba\n",
      "Processing Records 36 of Set 8 | carutapera\n",
      "Processing Records 37 of Set 8 | arcos\n",
      "Processing Records 38 of Set 8 | bunia\n",
      "Processing Records 39 of Set 8 | talaya\n",
      "Processing Records 40 of Set 8 | santa cruz\n",
      "Processing Records 41 of Set 8 | boyolangu\n",
      "Processing Records 42 of Set 8 | valenca\n",
      "Processing Records 43 of Set 8 | iranshahr\n",
      "Processing Records 44 of Set 8 | naze\n",
      "Processing Records 45 of Set 8 | abu samrah\n",
      "Processing Records 46 of Set 8 | diplo\n",
      "Processing Records 47 of Set 8 | bengkulu\n",
      "Processing Records 48 of Set 8 | zhaozhou\n",
      "Processing Records 49 of Set 8 | awbari\n",
      "City not found. Skipping...\n",
      "Processing Records 50 of Set 8 | tynda\n",
      "City not found. Skipping...\n",
      "Processing Records 0 of Set 9 | deblin\n",
      "Processing Records 1 of Set 9 | zhuhai\n",
      "Processing Records 2 of Set 9 | rawson\n",
      "Processing Records 3 of Set 9 | goundam\n",
      "Processing Records 4 of Set 9 | itupiranga\n",
      "Processing Records 5 of Set 9 | smolenka\n",
      "Processing Records 6 of Set 9 | poum\n",
      "Processing Records 7 of Set 9 | lao cai\n",
      "Processing Records 8 of Set 9 | stokmarknes\n",
      "Processing Records 9 of Set 9 | colomi\n",
      "City not found. Skipping...\n",
      "Processing Records 10 of Set 9 | rosarito\n",
      "Processing Records 11 of Set 9 | mayuge\n",
      "Processing Records 12 of Set 9 | clyde river\n",
      "Processing Records 13 of Set 9 | north bend\n",
      "Processing Records 14 of Set 9 | santa maria\n",
      "Processing Records 15 of Set 9 | shimabara\n",
      "Processing Records 16 of Set 9 | faya\n",
      "Processing Records 17 of Set 9 | adrar\n",
      "Processing Records 18 of Set 9 | hereford\n",
      "Processing Records 19 of Set 9 | hagerstown\n",
      "Processing Records 20 of Set 9 | windhoek\n",
      "City not found. Skipping...\n",
      "Processing Records 21 of Set 9 | nantucket\n",
      "Processing Records 22 of Set 9 | fort nelson\n",
      "Processing Records 23 of Set 9 | shu\n",
      "Processing Records 24 of Set 9 | kirakira\n",
      "Processing Records 25 of Set 9 | iquitos\n",
      "Processing Records 26 of Set 9 | saint-pierre\n",
      "Processing Records 27 of Set 9 | payo\n",
      "Processing Records 28 of Set 9 | punta gorda\n",
      "City not found. Skipping...\n",
      "Processing Records 29 of Set 9 | umm kaddadah\n",
      "Processing Records 30 of Set 9 | nianzishan\n",
      "Processing Records 31 of Set 9 | petropavlovsk-kamchatskiy\n",
      "City not found. Skipping...\n",
      "Processing Records 32 of Set 9 | dingle\n",
      "Processing Records 33 of Set 9 | monaco-ville\n",
      "Processing Records 34 of Set 9 | ludvika\n",
      "Processing Records 35 of Set 9 | lukovetskiy\n",
      "Processing Records 36 of Set 9 | barcelos\n",
      "Processing Records 37 of Set 9 | jimo\n",
      "Processing Records 38 of Set 9 | port hedland\n",
      "Processing Records 39 of Set 9 | lago da pedra\n",
      "Processing Records 40 of Set 9 | agirish\n",
      "Processing Records 41 of Set 9 | farah\n",
      "Processing Records 42 of Set 9 | mackay\n",
      "Processing Records 43 of Set 9 | chimbote\n",
      "Processing Records 44 of Set 9 | limbdi\n",
      "Processing Records 45 of Set 9 | emba\n",
      "Processing Records 46 of Set 9 | ntcheu\n",
      "Processing Records 47 of Set 9 | leirvik\n",
      "Processing Records 48 of Set 9 | smithers\n",
      "Processing Records 49 of Set 9 | qasigiannguit\n",
      "City not found. Skipping...\n",
      "Processing Records 50 of Set 9 | cartagena\n",
      "Processing Records 0 of Set 10 | kushmurun\n",
      "Processing Records 1 of Set 10 | skelleftea\n",
      "Processing Records 2 of Set 10 | pangai\n",
      "Processing Records 3 of Set 10 | inverell\n",
      "City not found. Skipping...\n",
      "Processing Records 4 of Set 10 | villazon\n",
      "Processing Records 5 of Set 10 | mirnyy\n",
      "Processing Records 6 of Set 10 | tame\n",
      "Processing Records 7 of Set 10 | berlevag\n",
      "Processing Records 8 of Set 10 | chapais\n",
      "Processing Records 9 of Set 10 | cardston\n",
      "Processing Records 10 of Set 10 | kloulklubed\n",
      "Processing Records 11 of Set 10 | macklin\n",
      "City not found. Skipping...\n",
      "Processing Records 12 of Set 10 | altay\n",
      "Processing Records 13 of Set 10 | praia da vitoria\n",
      "Processing Records 14 of Set 10 | okha\n",
      "Processing Records 15 of Set 10 | sete\n",
      "Processing Records 16 of Set 10 | bad kreuznach\n",
      "Processing Records 17 of Set 10 | malmyzh\n",
      "Processing Records 18 of Set 10 | carballo\n",
      "Processing Records 19 of Set 10 | bac\n",
      "Processing Records 20 of Set 10 | beyneu\n",
      "Processing Records 21 of Set 10 | omboue\n",
      "Processing Records 22 of Set 10 | mogadishu\n",
      "City not found. Skipping...\n",
      "Processing Records 23 of Set 10 | sehithwa\n",
      "Processing Records 24 of Set 10 | oranjemund\n",
      "City not found. Skipping...\n",
      "Processing Records 25 of Set 10 | tipuani\n",
      "Processing Records 26 of Set 10 | san lorenzo\n",
      "City not found. Skipping...\n",
      "Processing Records 27 of Set 10 | leh\n",
      "City not found. Skipping...\n",
      "Processing Records 28 of Set 10 | banska bystrica\n",
      "Processing Records 29 of Set 10 | rapid valley\n",
      "Processing Records 30 of Set 10 | bukachacha\n",
      "Processing Records 31 of Set 10 | patiya\n",
      "City not found. Skipping...\n",
      "Processing Records 32 of Set 10 | maragogi\n",
      "Processing Records 33 of Set 10 | sembe\n",
      "Processing Records 34 of Set 10 | naujoji akmene\n",
      "City not found. Skipping...\n",
      "Processing Records 35 of Set 10 | keflavik\n",
      "Processing Records 36 of Set 10 | tezu\n",
      "Processing Records 37 of Set 10 | lodja\n",
      "Processing Records 38 of Set 10 | bako\n",
      "Processing Records 39 of Set 10 | tiassale\n",
      "Processing Records 40 of Set 10 | carndonagh\n",
      "Processing Records 41 of Set 10 | dulce nombre de culmi\n",
      "Processing Records 42 of Set 10 | shimanovsk\n",
      "Processing Records 43 of Set 10 | shimoda\n",
      "Processing Records 44 of Set 10 | burnie\n",
      "Processing Records 45 of Set 10 | cuenca\n",
      "Processing Records 46 of Set 10 | tuatapere\n",
      "Processing Records 47 of Set 10 | marzuq\n",
      "Processing Records 48 of Set 10 | moree\n",
      "Processing Records 49 of Set 10 | idritsa\n",
      "Processing Records 50 of Set 10 | putina\n",
      "Processing Records 0 of Set 11 | banda aceh\n",
      "Processing Records 1 of Set 11 | wharton\n",
      "Processing Records 2 of Set 11 | ipixuna\n",
      "Processing Records 3 of Set 11 | bertoua\n",
      "City not found. Skipping...\n",
      "Processing Records 4 of Set 11 | warwick\n",
      "Processing Records 5 of Set 11 | monroe\n",
      "Processing Records 6 of Set 11 | hualmay\n",
      "City not found. Skipping...\n",
      "Processing Records 7 of Set 11 | seddon\n",
      "Processing Records 8 of Set 11 | zabol\n",
      "Processing Records 9 of Set 11 | moron\n",
      "Processing Records 10 of Set 11 | bitung\n",
      "Processing Records 11 of Set 11 | vila franca do campo\n",
      "Processing Records 12 of Set 11 | rabaul\n",
      "Processing Records 13 of Set 11 | oktyabrskiy\n",
      "Processing Records 14 of Set 11 | chicama\n",
      "Processing Records 15 of Set 11 | nakhon thai\n",
      "Processing Records 16 of Set 11 | coruripe\n",
      "Processing Records 17 of Set 11 | gizo\n",
      "Processing Records 18 of Set 11 | san patricio\n",
      "Processing Records 19 of Set 11 | acajutla\n",
      "City not found. Skipping...\n",
      "Processing Records 20 of Set 11 | wum\n",
      "Processing Records 21 of Set 11 | batemans bay\n",
      "Processing Records 22 of Set 11 | taksimo\n",
      "Processing Records 23 of Set 11 | gualeguay\n",
      "Processing Records 24 of Set 11 | strezhevoy\n",
      "City not found. Skipping...\n",
      "Processing Records 25 of Set 11 | nago\n",
      "Processing Records 26 of Set 11 | beringovskiy\n",
      "Processing Records 27 of Set 11 | godda\n",
      "Processing Records 28 of Set 11 | la ronge\n",
      "Processing Records 29 of Set 11 | talara\n",
      "Processing Records 30 of Set 11 | college\n",
      "Processing Records 31 of Set 11 | moerai\n",
      "Processing Records 32 of Set 11 | anniston\n",
      "Processing Records 33 of Set 11 | gimli\n",
      "Processing Records 34 of Set 11 | northam\n",
      "Processing Records 35 of Set 11 | hudiksvall\n",
      "Processing Records 36 of Set 11 | gyomaendrod\n",
      "Processing Records 37 of Set 11 | bowen\n",
      "Processing Records 38 of Set 11 | alta floresta\n",
      "Processing Records 39 of Set 11 | qui nhon\n"
     ]
    },
    {
     "name": "stdout",
     "output_type": "stream",
     "text": [
      "Processing Records 40 of Set 11 | san borja\n",
      "Processing Records 41 of Set 11 | aitape\n",
      "Processing Records 42 of Set 11 | marawi\n",
      "City not found. Skipping...\n",
      "Processing Records 43 of Set 11 | sinegorskiy\n",
      "Processing Records 44 of Set 11 | swan river\n",
      "Processing Records 45 of Set 11 | dareda\n",
      "Processing Records 46 of Set 11 | gunjur\n",
      "City not found. Skipping...\n",
      "Processing Records 47 of Set 11 | hearst\n",
      "City not found. Skipping...\n",
      "Processing Records 48 of Set 11 | makubetsu\n",
      "Processing Records 49 of Set 11 | sawtell\n",
      "City not found. Skipping...\n",
      "Processing Records 50 of Set 11 | tiznit\n",
      "Processing Records 0 of Set 12 | hofn\n",
      "Processing Records 1 of Set 12 | nouadhibou\n",
      "Processing Records 2 of Set 12 | langenburg\n",
      "Processing Records 3 of Set 12 | vestmannaeyjar\n",
      "Processing Records 4 of Set 12 | ampanihy\n",
      "----------------------------------\n",
      "Data Retrieval Complete\n",
      "----------------------------------\n"
     ]
    }
   ],
   "source": [
    "# loop through the cities \n",
    "city_name = []\n",
    "latitude = []\n",
    "longitude = []\n",
    "max_temp = []\n",
    "humidity  = []\n",
    "cloudiness = []\n",
    "wind_speed = []\n",
    "countries = []\n",
    "date = []\n",
    "record_counter = 0\n",
    "set_counter = 1\n",
    "\n",
    "# Start of printing\n",
    "print(\"Beginning Data Retrieval\")\n",
    "print(\"---------------------------------------\")\n",
    "\n",
    "# Save config information\n",
    "url = \"http://api.openweathermap.org/data/2.5/weather?\"\n",
    "units = \"metric\"\n",
    "\n",
    "# Build query URL\n",
    "query_url = f\"{url}appid={weather_api_key}&units={units}&q=\"\n",
    "\n",
    "# Loop through the cities\n",
    "\n",
    "for city in cities:\n",
    "    try:\n",
    "        response = requests.get(query_url + city).json()\n",
    "        city_name.append(response[\"name\"])\n",
    "        latitude.append(response[\"coord\"][\"lat\"])\n",
    "        longitude.append(response[\"coord\"][\"lon\"])\n",
    "        max_temp.append(response[\"main\"][\"temp_max\"])\n",
    "        humidity.append(response[\"main\"][\"humidity\"])\n",
    "        cloudiness.append(response[\"clouds\"][\"all\"])\n",
    "        wind_speed.append(response[\"wind\"][\"speed\"])\n",
    "        countries.append(response[\"sys\"][\"country\"])\n",
    "        date.append(response[\"dt\"])\n",
    "        \n",
    "        if record_counter > 49:\n",
    "            record_counter = 0\n",
    "            set_counter = set_counter + 1\n",
    "            \n",
    "        else:\n",
    "            record_counter = record_counter + 1\n",
    "            \n",
    "        print(f\"Processing Records {record_counter} of Set {set_counter} | {city}\")\n",
    "        \n",
    "    except: \n",
    "         print(\"City not found. Skipping...\")\n",
    "            \n",
    "        \n",
    "# End of printing\n",
    "print(\"----------------------------------\")\n",
    "print(\"Data Retrieval Complete\")\n",
    "print(\"----------------------------------\")\n",
    "\n"
   ]
  },
  {
   "cell_type": "markdown",
   "metadata": {},
   "source": [
    "### Convert Raw Data to DataFrame\n",
    "* Export the city data into a .csv.\n",
    "* Display the DataFrame"
   ]
  },
  {
   "cell_type": "code",
   "execution_count": 5,
   "metadata": {},
   "outputs": [
    {
     "data": {
      "text/html": [
       "<div>\n",
       "<style scoped>\n",
       "    .dataframe tbody tr th:only-of-type {\n",
       "        vertical-align: middle;\n",
       "    }\n",
       "\n",
       "    .dataframe tbody tr th {\n",
       "        vertical-align: top;\n",
       "    }\n",
       "\n",
       "    .dataframe thead th {\n",
       "        text-align: right;\n",
       "    }\n",
       "</style>\n",
       "<table border=\"1\" class=\"dataframe\">\n",
       "  <thead>\n",
       "    <tr style=\"text-align: right;\">\n",
       "      <th></th>\n",
       "      <th>City</th>\n",
       "      <th>Lat</th>\n",
       "      <th>Lng</th>\n",
       "      <th>Max Temp</th>\n",
       "      <th>Humidity</th>\n",
       "      <th>Cloudiness</th>\n",
       "      <th>Wind Speed</th>\n",
       "      <th>Country</th>\n",
       "      <th>Date</th>\n",
       "    </tr>\n",
       "  </thead>\n",
       "  <tbody>\n",
       "    <tr>\n",
       "      <th>0</th>\n",
       "      <td>Rikitea</td>\n",
       "      <td>-23.1203</td>\n",
       "      <td>-134.9692</td>\n",
       "      <td>25.53</td>\n",
       "      <td>74</td>\n",
       "      <td>26</td>\n",
       "      <td>2.36</td>\n",
       "      <td>PF</td>\n",
       "      <td>1619405418</td>\n",
       "    </tr>\n",
       "    <tr>\n",
       "      <th>1</th>\n",
       "      <td>Tasiilaq</td>\n",
       "      <td>65.6145</td>\n",
       "      <td>-37.6368</td>\n",
       "      <td>4.00</td>\n",
       "      <td>65</td>\n",
       "      <td>75</td>\n",
       "      <td>7.20</td>\n",
       "      <td>GL</td>\n",
       "      <td>1619405419</td>\n",
       "    </tr>\n",
       "    <tr>\n",
       "      <th>2</th>\n",
       "      <td>Vaini</td>\n",
       "      <td>-21.2000</td>\n",
       "      <td>-175.2000</td>\n",
       "      <td>28.00</td>\n",
       "      <td>78</td>\n",
       "      <td>40</td>\n",
       "      <td>4.12</td>\n",
       "      <td>TO</td>\n",
       "      <td>1619405419</td>\n",
       "    </tr>\n",
       "    <tr>\n",
       "      <th>3</th>\n",
       "      <td>Mar del Plata</td>\n",
       "      <td>-38.0023</td>\n",
       "      <td>-57.5575</td>\n",
       "      <td>16.11</td>\n",
       "      <td>94</td>\n",
       "      <td>1</td>\n",
       "      <td>2.06</td>\n",
       "      <td>AR</td>\n",
       "      <td>1619405343</td>\n",
       "    </tr>\n",
       "    <tr>\n",
       "      <th>4</th>\n",
       "      <td>Tura</td>\n",
       "      <td>25.5198</td>\n",
       "      <td>90.2201</td>\n",
       "      <td>33.86</td>\n",
       "      <td>20</td>\n",
       "      <td>5</td>\n",
       "      <td>2.55</td>\n",
       "      <td>IN</td>\n",
       "      <td>1619405420</td>\n",
       "    </tr>\n",
       "    <tr>\n",
       "      <th>...</th>\n",
       "      <td>...</td>\n",
       "      <td>...</td>\n",
       "      <td>...</td>\n",
       "      <td>...</td>\n",
       "      <td>...</td>\n",
       "      <td>...</td>\n",
       "      <td>...</td>\n",
       "      <td>...</td>\n",
       "      <td>...</td>\n",
       "    </tr>\n",
       "    <tr>\n",
       "      <th>560</th>\n",
       "      <td>Hofn</td>\n",
       "      <td>64.2539</td>\n",
       "      <td>-15.2082</td>\n",
       "      <td>6.18</td>\n",
       "      <td>71</td>\n",
       "      <td>11</td>\n",
       "      <td>6.61</td>\n",
       "      <td>IS</td>\n",
       "      <td>1619405243</td>\n",
       "    </tr>\n",
       "    <tr>\n",
       "      <th>561</th>\n",
       "      <td>Nouadhibou</td>\n",
       "      <td>20.9310</td>\n",
       "      <td>-17.0347</td>\n",
       "      <td>18.00</td>\n",
       "      <td>88</td>\n",
       "      <td>0</td>\n",
       "      <td>6.17</td>\n",
       "      <td>MR</td>\n",
       "      <td>1619405512</td>\n",
       "    </tr>\n",
       "    <tr>\n",
       "      <th>562</th>\n",
       "      <td>Langenburg</td>\n",
       "      <td>49.2544</td>\n",
       "      <td>9.8458</td>\n",
       "      <td>3.00</td>\n",
       "      <td>70</td>\n",
       "      <td>43</td>\n",
       "      <td>5.14</td>\n",
       "      <td>DE</td>\n",
       "      <td>1619405512</td>\n",
       "    </tr>\n",
       "    <tr>\n",
       "      <th>563</th>\n",
       "      <td>Vestmannaeyjar</td>\n",
       "      <td>63.4427</td>\n",
       "      <td>-20.2734</td>\n",
       "      <td>6.96</td>\n",
       "      <td>81</td>\n",
       "      <td>1</td>\n",
       "      <td>2.55</td>\n",
       "      <td>IS</td>\n",
       "      <td>1619405512</td>\n",
       "    </tr>\n",
       "    <tr>\n",
       "      <th>564</th>\n",
       "      <td>Ampanihy</td>\n",
       "      <td>-24.7000</td>\n",
       "      <td>44.7500</td>\n",
       "      <td>20.57</td>\n",
       "      <td>75</td>\n",
       "      <td>0</td>\n",
       "      <td>2.77</td>\n",
       "      <td>MG</td>\n",
       "      <td>1619405512</td>\n",
       "    </tr>\n",
       "  </tbody>\n",
       "</table>\n",
       "<p>565 rows × 9 columns</p>\n",
       "</div>"
      ],
      "text/plain": [
       "               City      Lat       Lng  Max Temp  Humidity  Cloudiness  \\\n",
       "0           Rikitea -23.1203 -134.9692     25.53        74          26   \n",
       "1          Tasiilaq  65.6145  -37.6368      4.00        65          75   \n",
       "2             Vaini -21.2000 -175.2000     28.00        78          40   \n",
       "3     Mar del Plata -38.0023  -57.5575     16.11        94           1   \n",
       "4              Tura  25.5198   90.2201     33.86        20           5   \n",
       "..              ...      ...       ...       ...       ...         ...   \n",
       "560            Hofn  64.2539  -15.2082      6.18        71          11   \n",
       "561      Nouadhibou  20.9310  -17.0347     18.00        88           0   \n",
       "562      Langenburg  49.2544    9.8458      3.00        70          43   \n",
       "563  Vestmannaeyjar  63.4427  -20.2734      6.96        81           1   \n",
       "564        Ampanihy -24.7000   44.7500     20.57        75           0   \n",
       "\n",
       "     Wind Speed Country        Date  \n",
       "0          2.36      PF  1619405418  \n",
       "1          7.20      GL  1619405419  \n",
       "2          4.12      TO  1619405419  \n",
       "3          2.06      AR  1619405343  \n",
       "4          2.55      IN  1619405420  \n",
       "..          ...     ...         ...  \n",
       "560        6.61      IS  1619405243  \n",
       "561        6.17      MR  1619405512  \n",
       "562        5.14      DE  1619405512  \n",
       "563        2.55      IS  1619405512  \n",
       "564        2.77      MG  1619405512  \n",
       "\n",
       "[565 rows x 9 columns]"
      ]
     },
     "execution_count": 5,
     "metadata": {},
     "output_type": "execute_result"
    }
   ],
   "source": [
    "# Create the DataFrame\n",
    "df = pd.DataFrame({\"City\" : city_name,\n",
    "                  \"Lat\" : latitude,\n",
    "                  \"Lng\" : longitude,\n",
    "                  \"Max Temp\" : max_temp,\n",
    "                  \"Humidity\" : humidity,\n",
    "                  \"Cloudiness\" : cloudiness,\n",
    "                  \"Wind Speed\" : wind_speed,\n",
    "                  \"Country\" : countries, \n",
    "                  \"Date\" : date})\n",
    "\n",
    "df"
   ]
  },
  {
   "cell_type": "code",
   "execution_count": 6,
   "metadata": {},
   "outputs": [],
   "source": [
    "# Export the city data into a .csv\n",
    "df.to_csv(\"output_data/cities.csv\", index = False)"
   ]
  },
  {
   "cell_type": "code",
   "execution_count": 7,
   "metadata": {},
   "outputs": [
    {
     "data": {
      "text/html": [
       "<div>\n",
       "<style scoped>\n",
       "    .dataframe tbody tr th:only-of-type {\n",
       "        vertical-align: middle;\n",
       "    }\n",
       "\n",
       "    .dataframe tbody tr th {\n",
       "        vertical-align: top;\n",
       "    }\n",
       "\n",
       "    .dataframe thead th {\n",
       "        text-align: right;\n",
       "    }\n",
       "</style>\n",
       "<table border=\"1\" class=\"dataframe\">\n",
       "  <thead>\n",
       "    <tr style=\"text-align: right;\">\n",
       "      <th></th>\n",
       "      <th>City</th>\n",
       "      <th>Lat</th>\n",
       "      <th>Lng</th>\n",
       "      <th>Max Temp</th>\n",
       "      <th>Humidity</th>\n",
       "      <th>Cloudiness</th>\n",
       "      <th>Wind Speed</th>\n",
       "      <th>Country</th>\n",
       "      <th>Date</th>\n",
       "    </tr>\n",
       "  </thead>\n",
       "  <tbody>\n",
       "    <tr>\n",
       "      <th>0</th>\n",
       "      <td>Rikitea</td>\n",
       "      <td>-23.1203</td>\n",
       "      <td>-134.9692</td>\n",
       "      <td>25.53</td>\n",
       "      <td>74</td>\n",
       "      <td>26</td>\n",
       "      <td>2.36</td>\n",
       "      <td>PF</td>\n",
       "      <td>1619405418</td>\n",
       "    </tr>\n",
       "    <tr>\n",
       "      <th>1</th>\n",
       "      <td>Tasiilaq</td>\n",
       "      <td>65.6145</td>\n",
       "      <td>-37.6368</td>\n",
       "      <td>4.00</td>\n",
       "      <td>65</td>\n",
       "      <td>75</td>\n",
       "      <td>7.20</td>\n",
       "      <td>GL</td>\n",
       "      <td>1619405419</td>\n",
       "    </tr>\n",
       "    <tr>\n",
       "      <th>2</th>\n",
       "      <td>Vaini</td>\n",
       "      <td>-21.2000</td>\n",
       "      <td>-175.2000</td>\n",
       "      <td>28.00</td>\n",
       "      <td>78</td>\n",
       "      <td>40</td>\n",
       "      <td>4.12</td>\n",
       "      <td>TO</td>\n",
       "      <td>1619405419</td>\n",
       "    </tr>\n",
       "    <tr>\n",
       "      <th>3</th>\n",
       "      <td>Mar del Plata</td>\n",
       "      <td>-38.0023</td>\n",
       "      <td>-57.5575</td>\n",
       "      <td>16.11</td>\n",
       "      <td>94</td>\n",
       "      <td>1</td>\n",
       "      <td>2.06</td>\n",
       "      <td>AR</td>\n",
       "      <td>1619405343</td>\n",
       "    </tr>\n",
       "    <tr>\n",
       "      <th>4</th>\n",
       "      <td>Tura</td>\n",
       "      <td>25.5198</td>\n",
       "      <td>90.2201</td>\n",
       "      <td>33.86</td>\n",
       "      <td>20</td>\n",
       "      <td>5</td>\n",
       "      <td>2.55</td>\n",
       "      <td>IN</td>\n",
       "      <td>1619405420</td>\n",
       "    </tr>\n",
       "  </tbody>\n",
       "</table>\n",
       "</div>"
      ],
      "text/plain": [
       "            City      Lat       Lng  Max Temp  Humidity  Cloudiness  \\\n",
       "0        Rikitea -23.1203 -134.9692     25.53        74          26   \n",
       "1       Tasiilaq  65.6145  -37.6368      4.00        65          75   \n",
       "2          Vaini -21.2000 -175.2000     28.00        78          40   \n",
       "3  Mar del Plata -38.0023  -57.5575     16.11        94           1   \n",
       "4           Tura  25.5198   90.2201     33.86        20           5   \n",
       "\n",
       "   Wind Speed Country        Date  \n",
       "0        2.36      PF  1619405418  \n",
       "1        7.20      GL  1619405419  \n",
       "2        4.12      TO  1619405419  \n",
       "3        2.06      AR  1619405343  \n",
       "4        2.55      IN  1619405420  "
      ]
     },
     "execution_count": 7,
     "metadata": {},
     "output_type": "execute_result"
    }
   ],
   "source": [
    "# Display the DataFrame\n",
    "df = pd.read_csv(\"output_data/cities.csv\")\n",
    "df.head()"
   ]
  },
  {
   "cell_type": "markdown",
   "metadata": {},
   "source": [
    "## Inspect the data and remove the cities where the humidity > 100%.\n",
    "----\n",
    "Skip this step if there are no cities that have humidity > 100%. "
   ]
  },
  {
   "cell_type": "code",
   "execution_count": null,
   "metadata": {},
   "outputs": [],
   "source": []
  },
  {
   "cell_type": "code",
   "execution_count": 8,
   "metadata": {},
   "outputs": [],
   "source": [
    "#  Get the indices of cities that have humidity over 100%.\n"
   ]
  },
  {
   "cell_type": "code",
   "execution_count": 9,
   "metadata": {},
   "outputs": [],
   "source": [
    "# Make a new DataFrame equal to the city data to drop all humidity outliers by index.\n",
    "# Passing \"inplace=False\" will make a copy of the city_data DataFrame, which we call \"clean_city_data\".\n"
   ]
  },
  {
   "cell_type": "code",
   "execution_count": null,
   "metadata": {},
   "outputs": [],
   "source": [
    "\n"
   ]
  },
  {
   "cell_type": "markdown",
   "metadata": {},
   "source": [
    "## Plotting the Data\n",
    "* Use proper labeling of the plots using plot titles (including date of analysis) and axes labels.\n",
    "* Save the plotted figures as .pngs."
   ]
  },
  {
   "cell_type": "markdown",
   "metadata": {},
   "source": [
    "## Latitude vs. Temperature Plot"
   ]
  },
  {
   "cell_type": "code",
   "execution_count": 27,
   "metadata": {
    "scrolled": true
   },
   "outputs": [
    {
     "data": {
      "image/png": "[encoded data removed]",
      "text/plain": [
       "<Figure size 432x288 with 1 Axes>"
      ]
     },
     "metadata": {
      "needs_background": "light"
     },
     "output_type": "display_data"
    }
   ],
   "source": [
    "# Build a scatter plot \n",
    "plt.scatter(df[\"Lat\"], df[\"Max Temp\"], marker=\"o\", facecolor=\"blue\", edgecolors=\"black\")\n",
    "\n",
    "# Graph properties\n",
    "plt.title(\"City Latitude vs. Max Temperature\")\n",
    "plt.xlabel(\"Latitude\")\n",
    "plt.ylabel(\"Max Temperature (C)\")\n",
    "\n",
    "# Save the figure\n",
    "plt.savefig(\"City Latitude vs Temperature.png\")\n",
    "\n",
    "# Show plot \n",
    "plt.show()"
   ]
  },
  {
   "cell_type": "markdown",
   "metadata": {},
   "source": [
    "## Latitude vs. Humidity Plot"
   ]
  },
  {
   "cell_type": "code",
   "execution_count": 11,
   "metadata": {},
   "outputs": [
    {
     "data": {
      "image/png": "[encoded data removed]",
      "text/plain": [
       "<Figure size 432x288 with 1 Axes>"
      ]
     },
     "metadata": {
      "needs_background": "light"
     },
     "output_type": "display_data"
    }
   ],
   "source": [
    "# Build a scatter plot \n",
    "plt.scatter(df[\"Lat\"], df[\"Humidity\"], marker=\"o\", facecolor=\"blue\", edgecolors=\"black\")\n",
    "\n",
    "# Graph properties\n",
    "plt.title(\"City Latitude vs. Humidity\")\n",
    "plt.xlabel(\"Latitude\")\n",
    "plt.ylabel(\"Humidity\")\n",
    "\n",
    "# Save the figure\n",
    "plt.savefig(\"City Latitude vs Humidity.png\")\n",
    "\n",
    "# Show plot \n",
    "plt.show()"
   ]
  },
  {
   "cell_type": "markdown",
   "metadata": {},
   "source": [
    "## Latitude vs. Cloudiness Plot"
   ]
  },
  {
   "cell_type": "code",
   "execution_count": 12,
   "metadata": {},
   "outputs": [
    {
     "data": {
      "image/png": "[encoded data removed]",
      "text/plain": [
       "<Figure size 432x288 with 1 Axes>"
      ]
     },
     "metadata": {
      "needs_background": "light"
     },
     "output_type": "display_data"
    }
   ],
   "source": [
    "# Build a scatter plot \n",
    "plt.scatter(df[\"Lat\"], df[\"Cloudiness\"], marker=\"o\", facecolor=\"blue\", edgecolors=\"black\")\n",
    "\n",
    "# Graph properties\n",
    "plt.title(\"City Latitude vs. Cloudiness\")\n",
    "plt.xlabel(\"Latitude\")\n",
    "plt.ylabel(\"Cloudiness (%)\")\n",
    "\n",
    "# Save the figure\n",
    "plt.savefig(\"City Latitude vs Cloudiness.png\")\n",
    "\n",
    "# Show plot \n",
    "plt.show()"
   ]
  },
  {
   "cell_type": "markdown",
   "metadata": {},
   "source": [
    "## Latitude vs. Wind Speed Plot"
   ]
  },
  {
   "cell_type": "code",
   "execution_count": 13,
   "metadata": {},
   "outputs": [
    {
     "data": {
      "image/png": "[encoded data removed]",
      "text/plain": [
       "<Figure size 432x288 with 1 Axes>"
      ]
     },
     "metadata": {
      "needs_background": "light"
     },
     "output_type": "display_data"
    }
   ],
   "source": [
    "# Build a scatter plot \n",
    "plt.scatter(df[\"Lat\"], df[\"Wind Speed\"], marker=\"o\", facecolor=\"blue\", edgecolors=\"black\")\n",
    "\n",
    "# Graph properties\n",
    "plt.title(\"City Latitude vs. Wind Speed\")\n",
    "plt.xlabel(\"Latitude\")\n",
    "plt.ylabel(\"Wind Speed (m/s)\")\n",
    "\n",
    "# Save the figure\n",
    "plt.savefig(\"City Latitude vs Wind Speed.png\")\n",
    "\n",
    "# Show plot \n",
    "plt.show()"
   ]
  },
  {
   "cell_type": "markdown",
   "metadata": {},
   "source": [
    "## Linear Regression"
   ]
  },
  {
   "cell_type": "code",
   "execution_count": 14,
   "metadata": {},
   "outputs": [],
   "source": [
    "# split data into Northern and Southern hemisperes\n",
    "northern_hemisphere = df[df[\"Lat\"]>=0]\n",
    "southern_hemisphere = df[df[\"Lat\"]<0]"
   ]
  },
  {
   "cell_type": "markdown",
   "metadata": {},
   "source": [
    "####  Northern Hemisphere - Max Temp vs. Latitude Linear Regression"
   ]
  },
  {
   "cell_type": "code",
   "execution_count": 15,
   "metadata": {},
   "outputs": [
    {
     "name": "stdout",
     "output_type": "stream",
     "text": [
      "The r-squared value is: -0.87\n"
     ]
    },
    {
     "data": {
      "image/png": "[encoded data removed]",
      "text/plain": [
       "<Figure size 432x288 with 1 Axes>"
      ]
     },
     "metadata": {
      "needs_background": "light"
     },
     "output_type": "display_data"
    },
    {
     "data": {
      "text/plain": [
       "<Figure size 432x288 with 0 Axes>"
      ]
     },
     "metadata": {},
     "output_type": "display_data"
    }
   ],
   "source": [
    "# Defining x and y values\n",
    "x_values = northern_hemisphere[\"Lat\"]\n",
    "y_values = northern_hemisphere[\"Max Temp\"]\n",
    "\n",
    "# Calculating the correlation coefficient \n",
    "correlation = st.pearsonr(x_values, y_values)\n",
    "print(f\"The r-squared value is: {round(correlation[0],2)}\")\n",
    "\n",
    "# Calculating linear regression\n",
    "(slope, intercept, rvalue, pvalue, stderr) = linregress(x_values, y_values)\n",
    "regress_values = x_values * slope + intercept\n",
    "line_eq = \"y = \" + str(round(slope,2)) + \"x + \" + str(round(intercept,2))\n",
    "      \n",
    "# Creating the plot and labelling \n",
    "plt.scatter(northern_hemisphere[\"Lat\"], northern_hemisphere[\"Max Temp\"], edgecolor=\"black\")\n",
    "plt.plot(x_values,regress_values,\"r-\")\n",
    "plt.annotate(line_eq,(0,-15),fontsize=15,color=\"red\")\n",
    "plt.title(\"City Latitude vs Max Temperature Linear Regression (Northern Hemisphere)\")\n",
    "plt.xlabel(\"Latitude\")\n",
    "plt.ylabel(\"Max Temp\")\n",
    "plt.show()\n",
    "      \n",
    "# Saving graph as .png\n",
    "plt.savefig(\"output_data/City Latitude vs Max Temperature Linear Regression (Northern Hemisphere).png\")"
   ]
  },
  {
   "cell_type": "markdown",
   "metadata": {},
   "source": [
    "There is a strong negative correlation between latitude and maximum temperature in the northern hemisphere. "
   ]
  },
  {
   "cell_type": "markdown",
   "metadata": {},
   "source": [
    "####  Southern Hemisphere - Max Temp vs. Latitude Linear Regression"
   ]
  },
  {
   "cell_type": "code",
   "execution_count": 16,
   "metadata": {},
   "outputs": [
    {
     "name": "stdout",
     "output_type": "stream",
     "text": [
      "The r-squared value is: 0.62\n"
     ]
    },
    {
     "data": {
      "image/png": "[encoded data removed]",
      "text/plain": [
       "<Figure size 432x288 with 1 Axes>"
      ]
     },
     "metadata": {
      "needs_background": "light"
     },
     "output_type": "display_data"
    },
    {
     "data": {
      "text/plain": [
       "<Figure size 432x288 with 0 Axes>"
      ]
     },
     "metadata": {},
     "output_type": "display_data"
    }
   ],
   "source": [
    "# Defining x and y values\n",
    "x_values = southern_hemisphere[\"Lat\"]\n",
    "y_values = southern_hemisphere[\"Max Temp\"]\n",
    "\n",
    "# Calculating the correlation coefficient \n",
    "correlation = st.pearsonr(x_values, y_values)\n",
    "print(f\"The r-squared value is: {round(correlation[0],2)}\")\n",
    "\n",
    "# Calculating linear regression\n",
    "(slope, intercept, rvalue, pvalue, stderr) = linregress(x_values, y_values)\n",
    "regress_values = x_values * slope + intercept\n",
    "line_eq = \"y = \" + str(round(slope,2)) + \"x + \" + str(round(intercept,2))\n",
    "      \n",
    "# Creating the plot and labelling \n",
    "plt.scatter(southern_hemisphere[\"Lat\"], southern_hemisphere[\"Max Temp\"], edgecolor=\"black\")\n",
    "plt.plot(x_values,regress_values,\"r-\")\n",
    "plt.annotate(line_eq,(-55,30),fontsize=15,color=\"red\")\n",
    "plt.title(\"City Latitude vs Max Temperature Linear Regression (Southern Hemisphere)\")\n",
    "plt.xlabel(\"Latitude\")\n",
    "plt.ylabel(\"Max Temp\")\n",
    "plt.show()\n",
    "      \n",
    "# Saving graph as .png\n",
    "plt.savefig(\"output_data/City Latitude vs Max Temperature Linear Regression (Southern Hemisphere).png\")"
   ]
  },
  {
   "cell_type": "markdown",
   "metadata": {},
   "source": [
    "There is a moderate positive correlation between latitude and maximum temperature for the northern hemisphere. "
   ]
  },
  {
   "cell_type": "markdown",
   "metadata": {},
   "source": [
    "####  Northern Hemisphere - Humidity (%) vs. Latitude Linear Regression"
   ]
  },
  {
   "cell_type": "code",
   "execution_count": 17,
   "metadata": {},
   "outputs": [
    {
     "name": "stdout",
     "output_type": "stream",
     "text": [
      "The r-squared value is: 0.07\n"
     ]
    },
    {
     "data": {
      "image/png": "[encoded data removed]",
      "text/plain": [
       "<Figure size 432x288 with 1 Axes>"
      ]
     },
     "metadata": {
      "needs_background": "light"
     },
     "output_type": "display_data"
    },
    {
     "data": {
      "text/plain": [
       "<Figure size 432x288 with 0 Axes>"
      ]
     },
     "metadata": {},
     "output_type": "display_data"
    }
   ],
   "source": [
    "# Defining x and y values\n",
    "x_values = northern_hemisphere[\"Lat\"]\n",
    "y_values = northern_hemisphere[\"Humidity\"]\n",
    "\n",
    "# Calculating the correlation coefficient \n",
    "correlation = st.pearsonr(x_values, y_values)\n",
    "print(f\"The r-squared value is: {round(correlation[0],2)}\")\n",
    "\n",
    "# Calculating linear regression\n",
    "(slope, intercept, rvalue, pvalue, stderr) = linregress(x_values, y_values)\n",
    "regress_values = x_values * slope + intercept\n",
    "line_eq = \"y = \" + str(round(slope,2)) + \"x + \" + str(round(intercept,2))\n",
    "      \n",
    "# Creating the plot and labelling \n",
    "plt.scatter(northern_hemisphere[\"Lat\"], northern_hemisphere[\"Humidity\"], edgecolor=\"black\")\n",
    "plt.plot(x_values,regress_values,\"r-\")\n",
    "plt.annotate(line_eq,(45,0),fontsize=15,color=\"red\")\n",
    "plt.title(\"City Latitude vs Humidity Linear Regression (Northern Hemisphere)\")\n",
    "plt.xlabel(\"Latitude\")\n",
    "plt.ylabel(\"Humidity\")\n",
    "plt.show()\n",
    "      \n",
    "# Saving graph as .png\n",
    "plt.savefig(\"output_data/City Latitude vs Humidity Linear Regression (Northern Hemisphere).png\")"
   ]
  },
  {
   "cell_type": "markdown",
   "metadata": {},
   "source": [
    "There is no correlation between latitude and humidity for the northern hemisphere."
   ]
  },
  {
   "cell_type": "markdown",
   "metadata": {},
   "source": [
    "####  Southern Hemisphere - Humidity (%) vs. Latitude Linear Regression"
   ]
  },
  {
   "cell_type": "code",
   "execution_count": 18,
   "metadata": {},
   "outputs": [
    {
     "name": "stdout",
     "output_type": "stream",
     "text": [
      "The r-squared value is: 0.18\n"
     ]
    },
    {
     "data": {
      "image/png": "[encoded data removed]",
      "text/plain": [
       "<Figure size 432x288 with 1 Axes>"
      ]
     },
     "metadata": {
      "needs_background": "light"
     },
     "output_type": "display_data"
    },
    {
     "data": {
      "text/plain": [
       "<Figure size 432x288 with 0 Axes>"
      ]
     },
     "metadata": {},
     "output_type": "display_data"
    }
   ],
   "source": [
    "# Defining x and y values\n",
    "x_values = southern_hemisphere[\"Lat\"]\n",
    "y_values = southern_hemisphere[\"Humidity\"]\n",
    "\n",
    "# Calculating the correlation coefficient \n",
    "correlation = st.pearsonr(x_values, y_values)\n",
    "print(f\"The r-squared value is: {round(correlation[0],2)}\")\n",
    "\n",
    "# Calculating linear regression\n",
    "(slope, intercept, rvalue, pvalue, stderr) = linregress(x_values, y_values)\n",
    "regress_values = x_values * slope + intercept\n",
    "line_eq = \"y = \" + str(round(slope,2)) + \"x + \" + str(round(intercept,2))\n",
    "      \n",
    "# Creating the plot and labelling \n",
    "plt.scatter(southern_hemisphere[\"Lat\"], southern_hemisphere[\"Humidity\"], edgecolor=\"black\")\n",
    "plt.plot(x_values,regress_values,\"r-\")\n",
    "plt.annotate(line_eq,(-55,15),fontsize=15,color=\"red\")\n",
    "plt.title(\"City Latitude vs Humidity Linear Regression (Southern Hemisphere)\")\n",
    "plt.xlabel(\"Latitude\")\n",
    "plt.ylabel(\"Humidity\")\n",
    "plt.show()\n",
    "      \n",
    "# Saving graph as .png\n",
    "plt.savefig(\"output_data/City Latitude vs Humidity Linear Regression (Southern Hemisphere).png\")"
   ]
  },
  {
   "cell_type": "markdown",
   "metadata": {},
   "source": [
    "There is a weak positive correlation between latitude and humidity for the southern hemisphere."
   ]
  },
  {
   "cell_type": "markdown",
   "metadata": {},
   "source": [
    "####  Northern Hemisphere - Cloudiness (%) vs. Latitude Linear Regression"
   ]
  },
  {
   "cell_type": "code",
   "execution_count": 20,
   "metadata": {},
   "outputs": [
    {
     "name": "stdout",
     "output_type": "stream",
     "text": [
      "The r-squared value is: 0.11\n"
     ]
    },
    {
     "data": {
      "image/png": "[encoded data removed]",
      "text/plain": [
       "<Figure size 432x288 with 1 Axes>"
      ]
     },
     "metadata": {
      "needs_background": "light"
     },
     "output_type": "display_data"
    },
    {
     "data": {
      "text/plain": [
       "<Figure size 432x288 with 0 Axes>"
      ]
     },
     "metadata": {},
     "output_type": "display_data"
    }
   ],
   "source": [
    "# Defining x and y values\n",
    "x_values = northern_hemisphere[\"Lat\"]\n",
    "y_values = northern_hemisphere[\"Cloudiness\"]\n",
    "\n",
    "# Calculating the correlation coefficient \n",
    "correlation = st.pearsonr(x_values, y_values)\n",
    "print(f\"The r-squared value is: {round(correlation[0],2)}\")\n",
    "\n",
    "# Calculating linear regression\n",
    "(slope, intercept, rvalue, pvalue, stderr) = linregress(x_values, y_values)\n",
    "regress_values = x_values * slope + intercept\n",
    "line_eq = \"y = \" + str(round(slope,2)) + \"x + \" + str(round(intercept,2))\n",
    "      \n",
    "# Creating the plot and labelling \n",
    "plt.scatter(northern_hemisphere[\"Lat\"], northern_hemisphere[\"Cloudiness\"], edgecolor=\"black\")\n",
    "plt.plot(x_values,regress_values,\"r-\")\n",
    "plt.annotate(line_eq,(0,60),fontsize=15,color=\"red\")\n",
    "plt.title(\"City Latitude vs Cloudiness Linear Regression (Northern Hemisphere)\")\n",
    "plt.xlabel(\"Latitude\")\n",
    "plt.ylabel(\"Cloudiness\")\n",
    "plt.show()\n",
    "      \n",
    "# Saving graph as .png\n",
    "plt.savefig(\"output_data/City Latitude vs Cloudiness Linear Regression (Northern Hemisphere).png\")"
   ]
  },
  {
   "cell_type": "markdown",
   "metadata": {},
   "source": [
    "There is a very weak positive between latitude and cloudiness for the northern hemisphere."
   ]
  },
  {
   "cell_type": "markdown",
   "metadata": {},
   "source": [
    "####  Southern Hemisphere - Cloudiness (%) vs. Latitude Linear Regression"
   ]
  },
  {
   "cell_type": "code",
   "execution_count": 21,
   "metadata": {},
   "outputs": [
    {
     "name": "stdout",
     "output_type": "stream",
     "text": [
      "The r-squared value is: 0.07\n"
     ]
    },
    {
     "data": {
      "image/png": "[encoded data removed]",
      "text/plain": [
       "<Figure size 432x288 with 1 Axes>"
      ]
     },
     "metadata": {
      "needs_background": "light"
     },
     "output_type": "display_data"
    },
    {
     "data": {
      "text/plain": [
       "<Figure size 432x288 with 0 Axes>"
      ]
     },
     "metadata": {},
     "output_type": "display_data"
    }
   ],
   "source": [
    "# Defining x and y values\n",
    "x_values = southern_hemisphere[\"Lat\"]\n",
    "y_values = southern_hemisphere[\"Cloudiness\"]\n",
    "\n",
    "# Calculating the correlation coefficient \n",
    "correlation = st.pearsonr(x_values, y_values)\n",
    "print(f\"The r-squared value is: {round(correlation[0],2)}\")\n",
    "\n",
    "# Calculating linear regression\n",
    "(slope, intercept, rvalue, pvalue, stderr) = linregress(x_values, y_values)\n",
    "regress_values = x_values * slope + intercept\n",
    "line_eq = \"y = \" + str(round(slope,2)) + \"x + \" + str(round(intercept,2))\n",
    "      \n",
    "# Creating the plot and labelling \n",
    "plt.scatter(southern_hemisphere[\"Lat\"], southern_hemisphere[\"Cloudiness\"], edgecolor=\"black\")\n",
    "plt.plot(x_values,regress_values,\"r-\")\n",
    "plt.annotate(line_eq,(-55,60),fontsize=15,color=\"red\")\n",
    "plt.title(\"City Latitude vs Cloudiness Linear Regression (Southern Hemisphere)\")\n",
    "plt.xlabel(\"Latitude\")\n",
    "plt.ylabel(\"Cloudiness\")\n",
    "plt.show()\n",
    "      \n",
    "# Saving graph as .png\n",
    "plt.savefig(\"output_data/City Latitude vs Cloudiness Linear Regression (Southern Hemisphere).png\")"
   ]
  },
  {
   "cell_type": "markdown",
   "metadata": {},
   "source": [
    "There is no correlation between latitude and cloudiness for the southern hemisphere."
   ]
  },
  {
   "cell_type": "markdown",
   "metadata": {},
   "source": [
    "####  Northern Hemisphere - Wind Speed (mph) vs. Latitude Linear Regression"
   ]
  },
  {
   "cell_type": "code",
   "execution_count": 23,
   "metadata": {},
   "outputs": [
    {
     "name": "stdout",
     "output_type": "stream",
     "text": [
      "The r-squared value is: 0.22\n"
     ]
    },
    {
     "data": {
      "image/png": "[encoded data removed]",
      "text/plain": [
       "<Figure size 432x288 with 1 Axes>"
      ]
     },
     "metadata": {
      "needs_background": "light"
     },
     "output_type": "display_data"
    },
    {
     "data": {
      "text/plain": [
       "<Figure size 432x288 with 0 Axes>"
      ]
     },
     "metadata": {},
     "output_type": "display_data"
    }
   ],
   "source": [
    "# Defining x and y values\n",
    "x_values = northern_hemisphere[\"Lat\"]\n",
    "y_values = northern_hemisphere[\"Wind Speed\"]\n",
    "\n",
    "# Calculating the correlation coefficient \n",
    "correlation = st.pearsonr(x_values, y_values)\n",
    "print(f\"The r-squared value is: {round(correlation[0],2)}\")\n",
    "\n",
    "# Calculating linear regression\n",
    "(slope, intercept, rvalue, pvalue, stderr) = linregress(x_values, y_values)\n",
    "regress_values = x_values * slope + intercept\n",
    "line_eq = \"y = \" + str(round(slope,2)) + \"x + \" + str(round(intercept,2))\n",
    "      \n",
    "# Creating the plot and labelling \n",
    "plt.scatter(northern_hemisphere[\"Lat\"], northern_hemisphere[\"Wind Speed\"], edgecolor=\"black\")\n",
    "plt.plot(x_values,regress_values,\"r-\")\n",
    "plt.annotate(line_eq,(0,12),fontsize=15,color=\"red\")\n",
    "plt.title(\"City Latitude vs Wind Speed Linear Regression (Northern Hemisphere)\")\n",
    "plt.xlabel(\"Latitude\")\n",
    "plt.ylabel(\"Wind Speed\")\n",
    "plt.show()\n",
    "      \n",
    "# Saving graph as .png\n",
    "plt.savefig(\"output_data/City Latitude vs Wind Speed Linear Regression (Northern Hemisphere).png\")"
   ]
  },
  {
   "cell_type": "markdown",
   "metadata": {},
   "source": [
    "There is a weak positive correlation between latitude and wind speed for the northern hemisphere."
   ]
  },
  {
   "cell_type": "markdown",
   "metadata": {},
   "source": [
    "####  Southern Hemisphere - Wind Speed (mph) vs. Latitude Linear Regression"
   ]
  },
  {
   "cell_type": "code",
   "execution_count": 26,
   "metadata": {},
   "outputs": [
    {
     "name": "stdout",
     "output_type": "stream",
     "text": [
      "The r-squared value is: -0.38\n"
     ]
    },
    {
     "data": {
      "image/png": "[encoded data removed]",
      "text/plain": [
       "<Figure size 432x288 with 1 Axes>"
      ]
     },
     "metadata": {
      "needs_background": "light"
     },
     "output_type": "display_data"
    },
    {
     "data": {
      "text/plain": [
       "<Figure size 432x288 with 0 Axes>"
      ]
     },
     "metadata": {},
     "output_type": "display_data"
    }
   ],
   "source": [
    "# Defining x and y values\n",
    "x_values = southern_hemisphere[\"Lat\"]\n",
    "y_values = southern_hemisphere[\"Wind Speed\"]\n",
    "\n",
    "# Calculating the correlation coefficient \n",
    "correlation = st.pearsonr(x_values, y_values)\n",
    "print(f\"The r-squared value is: {round(correlation[0],2)}\")\n",
    "\n",
    "# Calculating linear regression\n",
    "(slope, intercept, rvalue, pvalue, stderr) = linregress(x_values, y_values)\n",
    "regress_values = x_values * slope + intercept\n",
    "line_eq = \"y = \" + str(round(slope,2)) + \"x + \" + str(round(intercept,2))\n",
    "      \n",
    "# Creating the plot and labelling \n",
    "plt.scatter(southern_hemisphere[\"Lat\"], southern_hemisphere[\"Wind Speed\"], edgecolor=\"black\")\n",
    "plt.plot(x_values,regress_values,\"r-\")\n",
    "plt.annotate(line_eq,(-55,9.5),fontsize=15,color=\"red\")\n",
    "plt.title(\"City Latitude vs Wind Speed Linear Regression (Southern Hemisphere)\")\n",
    "plt.xlabel(\"Latitude\")\n",
    "plt.ylabel(\"Wind Speed (mph)\")\n",
    "plt.show()\n",
    "      \n",
    "# Saving graph as .png\n",
    "plt.savefig(\"output_data/City Latitude vs Wind Speed Linear Regression (Southern Hemisphere).png\")"
   ]
  },
  {
   "cell_type": "markdown",
   "metadata": {},
   "source": [
    "There is a moderate negative correlation between latitude and wind speed in the southern hemisphere. "
   ]
  },
  {
   "cell_type": "code",
   "execution_count": null,
   "metadata": {},
   "outputs": [],
   "source": []
  }
 ],
 "metadata": {
  "anaconda-cloud": {},
  "kernel_info": {
   "name": "python3"
  },
  "kernelspec": {
   "display_name": "Python [conda env:root] *",
   "language": "python",
   "name": "conda-root-py"
  },
  "language_info": {
   "codemirror_mode": {
    "name": "ipython",
    "version": 3
   },
   "file_extension": ".py",
   "mimetype": "text/x-python",
   "name": "python",
   "nbconvert_exporter": "python",
   "pygments_lexer": "ipython3",
   "version": "3.8.5"
  },
  "latex_envs": {
   "LaTeX_envs_menu_present": true,
   "autoclose": false,
   "autocomplete": true,
   "bibliofile": "biblio.bib",
   "cite_by": "apalike",
   "current_citInitial": 1,
   "eqLabelWithNumbers": true,
   "eqNumInitial": 1,
   "hotkeys": {
    "equation": "Ctrl-E",
    "itemize": "Ctrl-I"
   },
   "labels_anchors": false,
   "latex_user_defs": false,
   "report_style_numbering": false,
   "user_envs_cfg": false
  },
  "nteract": {
   "version": "0.12.3"
  }
 },
 "nbformat": 4,
 "nbformat_minor": 2
}
